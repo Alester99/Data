{
 "cells": [
  {
   "cell_type": "code",
   "execution_count": 1,
   "metadata": {},
   "outputs": [
    {
     "name": "stderr",
     "output_type": "stream",
     "text": [
      "WARNING: You are using pip version 21.2.4; however, version 21.3.1 is available.\n",
      "You should consider upgrading via the 'c:\\users\\alex\\appdata\\local\\programs\\python\\python39\\python.exe -m pip install --upgrade pip' command.\n"
     ]
    }
   ],
   "source": [
    "!pip install -q git+https://github.com/tensorflow/docs"
   ]
  },
  {
   "cell_type": "code",
   "execution_count": 2,
   "metadata": {},
   "outputs": [],
   "source": [
    "from tensorflow import keras\n",
    "from tensorflow.keras import layers\n",
    "\n",
    "from tensorflow_docs.vis import embed\n",
    "import matplotlib.pyplot as plt\n",
    "import tensorflow as tf\n",
    "import numpy as np\n",
    "import imageio"
   ]
  },
  {
   "cell_type": "code",
   "execution_count": 3,
   "metadata": {},
   "outputs": [],
   "source": [
    "batch_size = 64\n",
    "num_channels = 1\n",
    "num_classes = 10\n",
    "image_size = 28\n",
    "latent_dim = 128"
   ]
  },
  {
   "cell_type": "code",
   "execution_count": 4,
   "metadata": {},
   "outputs": [
    {
     "name": "stdout",
     "output_type": "stream",
     "text": [
      "Shape of training images: (70000, 28, 28, 1)\n",
      "Shape of training labels: (70000, 10)\n"
     ]
    }
   ],
   "source": [
    "# We'll use all the available examples from both the training and test\n",
    "# sets.\n",
    "(x_train, y_train), (x_test, y_test) = keras.datasets.mnist.load_data()\n",
    "all_digits = np.concatenate([x_train, x_test])\n",
    "all_labels = np.concatenate([y_train, y_test])\n",
    "\n",
    "# Scale the pixel values to [0, 1] range, add a channel dimension to\n",
    "# the images, and one-hot encode the labels.\n",
    "all_digits = all_digits.astype(\"float32\") / 255.0\n",
    "all_digits = np.reshape(all_digits, (-1, 28, 28, 1))\n",
    "all_labels = keras.utils.to_categorical(all_labels, 10)\n",
    "\n",
    "# Create tf.data.Dataset.\n",
    "dataset = tf.data.Dataset.from_tensor_slices((all_digits, all_labels))\n",
    "dataset = dataset.shuffle(buffer_size=1024).batch(batch_size)\n",
    "\n",
    "print(f\"Shape of training images: {all_digits.shape}\")\n",
    "print(f\"Shape of training labels: {all_labels.shape}\")"
   ]
  },
  {
   "cell_type": "code",
   "execution_count": 5,
   "metadata": {},
   "outputs": [
    {
     "name": "stdout",
     "output_type": "stream",
     "text": [
      "138 11\n"
     ]
    }
   ],
   "source": [
    "generator_in_channels = latent_dim + num_classes\n",
    "discriminator_in_channels = num_channels + num_classes\n",
    "print(generator_in_channels, discriminator_in_channels)"
   ]
  },
  {
   "cell_type": "code",
   "execution_count": 6,
   "metadata": {},
   "outputs": [],
   "source": [
    "# Create the discriminator.\n",
    "discriminator = keras.Sequential(\n",
    "    [\n",
    "        keras.layers.InputLayer((28, 28, discriminator_in_channels)),\n",
    "        layers.Conv2D(64, (3, 3), strides=(2, 2), padding=\"same\"),\n",
    "        layers.LeakyReLU(alpha=0.2),\n",
    "        layers.Conv2D(128, (3, 3), strides=(2, 2), padding=\"same\"),\n",
    "        layers.LeakyReLU(alpha=0.2),\n",
    "        layers.GlobalMaxPooling2D(),\n",
    "        layers.Dense(1),\n",
    "    ],\n",
    "    name=\"discriminator\",\n",
    ")\n",
    "\n",
    "# Create the generator.\n",
    "generator = keras.Sequential(\n",
    "    [\n",
    "        keras.layers.InputLayer((generator_in_channels,)),\n",
    "        # We want to generate 128 + num_classes coefficients to reshape into a\n",
    "        # 7x7x(128 + num_classes) map.\n",
    "        layers.Dense(7 * 7 * generator_in_channels),\n",
    "        layers.LeakyReLU(alpha=0.2),\n",
    "        layers.Reshape((7, 7, generator_in_channels)),\n",
    "        layers.Conv2DTranspose(128, (4, 4), strides=(2, 2), padding=\"same\"),\n",
    "        layers.LeakyReLU(alpha=0.2),\n",
    "        layers.Conv2DTranspose(128, (4, 4), strides=(2, 2), padding=\"same\"),\n",
    "        layers.LeakyReLU(alpha=0.2),\n",
    "        layers.Conv2D(1, (7, 7), padding=\"same\", activation=\"sigmoid\"),\n",
    "    ],\n",
    "    name=\"generator\",\n",
    ")"
   ]
  },
  {
   "cell_type": "code",
   "execution_count": 7,
   "metadata": {},
   "outputs": [],
   "source": [
    "class ConditionalGAN(keras.Model):\n",
    "    def __init__(self, discriminator, generator, latent_dim):\n",
    "        super(ConditionalGAN, self).__init__()\n",
    "        self.discriminator = discriminator\n",
    "        self.generator = generator\n",
    "        self.latent_dim = latent_dim\n",
    "        self.gen_loss_tracker = keras.metrics.Mean(name=\"generator_loss\")\n",
    "        self.disc_loss_tracker = keras.metrics.Mean(name=\"discriminator_loss\")\n",
    "\n",
    "    @property\n",
    "    def metrics(self):\n",
    "        return [self.gen_loss_tracker, self.disc_loss_tracker]\n",
    "\n",
    "    def compile(self, d_optimizer, g_optimizer, loss_fn):\n",
    "        super(ConditionalGAN, self).compile()\n",
    "        self.d_optimizer = d_optimizer\n",
    "        self.g_optimizer = g_optimizer\n",
    "        self.loss_fn = loss_fn\n",
    "\n",
    "    def train_step(self, data):\n",
    "        # Unpack the data.\n",
    "        real_images, one_hot_labels = data\n",
    "\n",
    "        # Add dummy dimensions to the labels so that they can be concatenated with\n",
    "        # the images. This is for the discriminator.\n",
    "        image_one_hot_labels = one_hot_labels[:, :, None, None]\n",
    "        image_one_hot_labels = tf.repeat(\n",
    "            image_one_hot_labels, repeats=[image_size * image_size]\n",
    "        )\n",
    "        image_one_hot_labels = tf.reshape(\n",
    "            image_one_hot_labels, (-1, image_size, image_size, num_classes)\n",
    "        )\n",
    "\n",
    "        # Sample random points in the latent space and concatenate the labels.\n",
    "        # This is for the generator.\n",
    "        batch_size = tf.shape(real_images)[0]\n",
    "        random_latent_vectors = tf.random.normal(shape=(batch_size, self.latent_dim))\n",
    "        random_vector_labels = tf.concat(\n",
    "            [random_latent_vectors, one_hot_labels], axis=1\n",
    "        )\n",
    "\n",
    "        # Decode the noise (guided by labels) to fake images.\n",
    "        generated_images = self.generator(random_vector_labels)\n",
    "\n",
    "        # Combine them with real images. Note that we are concatenating the labels\n",
    "        # with these images here.\n",
    "        fake_image_and_labels = tf.concat([generated_images, image_one_hot_labels], -1)\n",
    "        real_image_and_labels = tf.concat([real_images, image_one_hot_labels], -1)\n",
    "        combined_images = tf.concat(\n",
    "            [fake_image_and_labels, real_image_and_labels], axis=0\n",
    "        )\n",
    "\n",
    "        # Assemble labels discriminating real from fake images.\n",
    "        labels = tf.concat(\n",
    "            [tf.ones((batch_size, 1)), tf.zeros((batch_size, 1))], axis=0\n",
    "        )\n",
    "\n",
    "        # Train the discriminator.\n",
    "        with tf.GradientTape() as tape:\n",
    "            predictions = self.discriminator(combined_images)\n",
    "            d_loss = self.loss_fn(labels, predictions)\n",
    "        grads = tape.gradient(d_loss, self.discriminator.trainable_weights)\n",
    "        self.d_optimizer.apply_gradients(\n",
    "            zip(grads, self.discriminator.trainable_weights)\n",
    "        )\n",
    "\n",
    "        # Sample random points in the latent space.\n",
    "        random_latent_vectors = tf.random.normal(shape=(batch_size, self.latent_dim))\n",
    "        random_vector_labels = tf.concat(\n",
    "            [random_latent_vectors, one_hot_labels], axis=1\n",
    "        )\n",
    "\n",
    "        # Assemble labels that say \"all real images\".\n",
    "        misleading_labels = tf.zeros((batch_size, 1))\n",
    "\n",
    "        # Train the generator (note that we should *not* update the weights\n",
    "        # of the discriminator)!\n",
    "        with tf.GradientTape() as tape:\n",
    "            fake_images = self.generator(random_vector_labels)\n",
    "            fake_image_and_labels = tf.concat([fake_images, image_one_hot_labels], -1)\n",
    "            predictions = self.discriminator(fake_image_and_labels)\n",
    "            g_loss = self.loss_fn(misleading_labels, predictions)\n",
    "        grads = tape.gradient(g_loss, self.generator.trainable_weights)\n",
    "        self.g_optimizer.apply_gradients(zip(grads, self.generator.trainable_weights))\n",
    "\n",
    "        # Monitor loss.\n",
    "        self.gen_loss_tracker.update_state(g_loss)\n",
    "        self.disc_loss_tracker.update_state(d_loss)\n",
    "        return {\n",
    "            \"g_loss\": self.gen_loss_tracker.result(),\n",
    "            \"d_loss\": self.disc_loss_tracker.result(),\n",
    "        }"
   ]
  },
  {
   "cell_type": "code",
   "execution_count": 8,
   "metadata": {},
   "outputs": [
    {
     "name": "stdout",
     "output_type": "stream",
     "text": [
      "Epoch 1/20\n",
      "1094/1094 [==============================] - 3020s 3s/step - g_loss: 1.5279 - d_loss: 0.4313\n",
      "Epoch 2/20\n",
      "1094/1094 [==============================] - 1775s 2s/step - g_loss: 1.3927 - d_loss: 0.5018\n",
      "Epoch 3/20\n",
      "1094/1094 [==============================] - 2039s 2s/step - g_loss: 1.5865 - d_loss: 0.3846\n",
      "Epoch 4/20\n",
      "1094/1094 [==============================] - 3126s 3s/step - g_loss: 2.3606 - d_loss: 0.1941\n",
      "Epoch 5/20\n",
      "1094/1094 [==============================] - 3230s 3s/step - g_loss: 1.6181 - d_loss: 0.4609\n",
      "Epoch 6/20\n",
      "1094/1094 [==============================] - 3086s 3s/step - g_loss: 1.0772 - d_loss: 0.5962\n",
      "Epoch 7/20\n",
      "1094/1094 [==============================] - 1804s 2s/step - g_loss: 0.9346 - d_loss: 0.6367\n",
      "Epoch 8/20\n",
      "1094/1094 [==============================] - 1821s 2s/step - g_loss: 0.8741 - d_loss: 0.6451\n",
      "Epoch 9/20\n",
      "1094/1094 [==============================] - 1806s 2s/step - g_loss: 0.8453 - d_loss: 0.6641\n",
      "Epoch 10/20\n",
      "1094/1094 [==============================] - 1822s 2s/step - g_loss: 0.8204 - d_loss: 0.6641\n",
      "Epoch 11/20\n",
      "1094/1094 [==============================] - 1814s 2s/step - g_loss: 0.7973 - d_loss: 0.6729\n",
      "Epoch 12/20\n",
      "1094/1094 [==============================] - 1803s 2s/step - g_loss: 0.7941 - d_loss: 0.6700\n",
      "Epoch 13/20\n",
      "1094/1094 [==============================] - 1807s 2s/step - g_loss: 0.7990 - d_loss: 0.6636\n",
      "Epoch 14/20\n",
      "1094/1094 [==============================] - 1809s 2s/step - g_loss: 0.7827 - d_loss: 0.6699\n",
      "Epoch 15/20\n",
      "1094/1094 [==============================] - 1808s 2s/step - g_loss: 0.7934 - d_loss: 0.6656\n",
      "Epoch 16/20\n",
      "1094/1094 [==============================] - 1807s 2s/step - g_loss: 0.7889 - d_loss: 0.6657\n",
      "Epoch 17/20\n",
      "1094/1094 [==============================] - 1796s 2s/step - g_loss: 0.8110 - d_loss: 0.6598\n",
      "Epoch 18/20\n",
      "1094/1094 [==============================] - 3500s 3s/step - g_loss: 0.7965 - d_loss: 0.6541\n",
      "Epoch 19/20\n",
      "1094/1094 [==============================] - 3706s 3s/step - g_loss: 0.8099 - d_loss: 0.6537\n",
      "Epoch 20/20\n",
      "1094/1094 [==============================] - 3233s 3s/step - g_loss: 0.8341 - d_loss: 0.6395\n"
     ]
    },
    {
     "data": {
      "text/plain": [
       "<keras.callbacks.History at 0x246199070a0>"
      ]
     },
     "execution_count": 8,
     "metadata": {},
     "output_type": "execute_result"
    }
   ],
   "source": [
    "cond_gan = ConditionalGAN(\n",
    "    discriminator=discriminator, generator=generator, latent_dim=latent_dim\n",
    ")\n",
    "cond_gan.compile(\n",
    "    d_optimizer=keras.optimizers.Adam(learning_rate=0.0003),\n",
    "    g_optimizer=keras.optimizers.Adam(learning_rate=0.0003),\n",
    "    loss_fn=keras.losses.BinaryCrossentropy(from_logits=True),\n",
    ")\n",
    "\n",
    "cond_gan.fit(dataset, epochs=20)"
   ]
  },
  {
   "cell_type": "code",
   "execution_count": 9,
   "metadata": {},
   "outputs": [],
   "source": [
    "# We first extract the trained generator from our Conditiona GAN.\n",
    "trained_gen = cond_gan.generator\n",
    "\n",
    "# Choose the number of intermediate images that would be generated in\n",
    "# between the interpolation + 2 (start and last images).\n",
    "num_interpolation = 9  # @param {type:\"integer\"}\n",
    "\n",
    "# Sample noise for the interpolation.\n",
    "interpolation_noise = tf.random.normal(shape=(1, latent_dim))\n",
    "interpolation_noise = tf.repeat(interpolation_noise, repeats=num_interpolation)\n",
    "interpolation_noise = tf.reshape(interpolation_noise, (num_interpolation, latent_dim))\n",
    "\n",
    "\n",
    "def interpolate_class(first_number, second_number):\n",
    "    # Convert the start and end labels to one-hot encoded vectors.\n",
    "    first_label = keras.utils.to_categorical([first_number], num_classes)\n",
    "    second_label = keras.utils.to_categorical([second_number], num_classes)\n",
    "    first_label = tf.cast(first_label, tf.float32)\n",
    "    second_label = tf.cast(second_label, tf.float32)\n",
    "\n",
    "    # Calculate the interpolation vector between the two labels.\n",
    "    percent_second_label = tf.linspace(0, 1, num_interpolation)[:, None]\n",
    "    percent_second_label = tf.cast(percent_second_label, tf.float32)\n",
    "    interpolation_labels = (\n",
    "        first_label * (1 - percent_second_label) + second_label * percent_second_label\n",
    "    )\n",
    "\n",
    "    # Combine the noise and the labels and run inference with the generator.\n",
    "    noise_and_labels = tf.concat([interpolation_noise, interpolation_labels], 1)\n",
    "    fake = trained_gen.predict(noise_and_labels)\n",
    "    return fake\n",
    "\n",
    "\n",
    "start_class = 1  # @param {type:\"slider\", min:0, max:9, step:1}\n",
    "end_class = 5  # @param {type:\"slider\", min:0, max:9, step:1}\n",
    "\n",
    "fake_images = interpolate_class(start_class, end_class)"
   ]
  },
  {
   "cell_type": "code",
   "execution_count": 10,
   "metadata": {},
   "outputs": [
    {
     "data": {
      "text/html": [
       "<img src=\"data:image/gif;base64,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\"/>"
      ],
      "text/plain": [
       "<IPython.core.display.HTML object>"
      ]
     },
     "execution_count": 10,
     "metadata": {},
     "output_type": "execute_result"
    }
   ],
   "source": [
    "fake_images *= 255.0\n",
    "converted_images = fake_images.astype(np.uint8)\n",
    "converted_images = tf.image.resize(converted_images, (96, 96)).numpy().astype(np.uint8)\n",
    "imageio.mimsave(\"animation.gif\", converted_images, fps=1)\n",
    "embed.embed_file(\"animation.gif\")"
   ]
  }
 ],
 "metadata": {
  "kernelspec": {
   "display_name": "Python 3 (ipykernel)",
   "language": "python",
   "name": "python3"
  },
  "language_info": {
   "codemirror_mode": {
    "name": "ipython",
    "version": 3
   },
   "file_extension": ".py",
   "mimetype": "text/x-python",
   "name": "python",
   "nbconvert_exporter": "python",
   "pygments_lexer": "ipython3",
   "version": "3.9.6"
  }
 },
 "nbformat": 4,
 "nbformat_minor": 4
}
