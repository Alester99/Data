{
 "cells": [
  {
   "cell_type": "code",
   "execution_count": 1,
   "metadata": {},
   "outputs": [],
   "source": [
    "import pandas as pd\n",
    "import numpy as np\n",
    "import matplotlib.pylab as plt\n",
    "import sklearn\n",
    "import seaborn as sns\n",
    "from sklearn import preprocessing\n",
    "from sklearn import datasets"
   ]
  },
  {
   "cell_type": "code",
   "execution_count": 2,
   "metadata": {},
   "outputs": [
    {
     "data": {
      "text/plain": [
       "(2216, 19)"
      ]
     },
     "execution_count": 2,
     "metadata": {},
     "output_type": "execute_result"
    }
   ],
   "source": [
    "df=pd.read_csv(\"CSV/marketing_campaign.csv\",delimiter='\t')\n",
    "df.drop(['Complain', 'AcceptedCmp1','AcceptedCmp2','AcceptedCmp3','AcceptedCmp4','AcceptedCmp5','Response','Dt_Customer','Education','ID'], axis=1, inplace=True)\n",
    "df = df[df['Income'].notna()]\n",
    "df.shape"
   ]
  },
  {
   "cell_type": "code",
   "execution_count": 3,
   "metadata": {},
   "outputs": [
    {
     "data": {
      "text/html": [
       "<div>\n",
       "<style scoped>\n",
       "    .dataframe tbody tr th:only-of-type {\n",
       "        vertical-align: middle;\n",
       "    }\n",
       "\n",
       "    .dataframe tbody tr th {\n",
       "        vertical-align: top;\n",
       "    }\n",
       "\n",
       "    .dataframe thead th {\n",
       "        text-align: right;\n",
       "    }\n",
       "</style>\n",
       "<table border=\"1\" class=\"dataframe\">\n",
       "  <thead>\n",
       "    <tr style=\"text-align: right;\">\n",
       "      <th></th>\n",
       "      <th>Year_Birth</th>\n",
       "      <th>Marital_Status</th>\n",
       "      <th>Income</th>\n",
       "      <th>Kidhome</th>\n",
       "      <th>Teenhome</th>\n",
       "      <th>Recency</th>\n",
       "      <th>MntWines</th>\n",
       "      <th>MntFruits</th>\n",
       "      <th>MntMeatProducts</th>\n",
       "      <th>MntFishProducts</th>\n",
       "      <th>MntSweetProducts</th>\n",
       "      <th>MntGoldProds</th>\n",
       "      <th>NumDealsPurchases</th>\n",
       "      <th>NumWebPurchases</th>\n",
       "      <th>NumCatalogPurchases</th>\n",
       "      <th>NumStorePurchases</th>\n",
       "      <th>NumWebVisitsMonth</th>\n",
       "      <th>Z_CostContact</th>\n",
       "      <th>Z_Revenue</th>\n",
       "    </tr>\n",
       "  </thead>\n",
       "  <tbody>\n",
       "    <tr>\n",
       "      <th>0</th>\n",
       "      <td>1957</td>\n",
       "      <td>Single</td>\n",
       "      <td>58138.0</td>\n",
       "      <td>0</td>\n",
       "      <td>0</td>\n",
       "      <td>58</td>\n",
       "      <td>635</td>\n",
       "      <td>88</td>\n",
       "      <td>546</td>\n",
       "      <td>172</td>\n",
       "      <td>88</td>\n",
       "      <td>88</td>\n",
       "      <td>3</td>\n",
       "      <td>8</td>\n",
       "      <td>10</td>\n",
       "      <td>4</td>\n",
       "      <td>7</td>\n",
       "      <td>3</td>\n",
       "      <td>11</td>\n",
       "    </tr>\n",
       "    <tr>\n",
       "      <th>1</th>\n",
       "      <td>1954</td>\n",
       "      <td>Single</td>\n",
       "      <td>46344.0</td>\n",
       "      <td>1</td>\n",
       "      <td>1</td>\n",
       "      <td>38</td>\n",
       "      <td>11</td>\n",
       "      <td>1</td>\n",
       "      <td>6</td>\n",
       "      <td>2</td>\n",
       "      <td>1</td>\n",
       "      <td>6</td>\n",
       "      <td>2</td>\n",
       "      <td>1</td>\n",
       "      <td>1</td>\n",
       "      <td>2</td>\n",
       "      <td>5</td>\n",
       "      <td>3</td>\n",
       "      <td>11</td>\n",
       "    </tr>\n",
       "    <tr>\n",
       "      <th>2</th>\n",
       "      <td>1965</td>\n",
       "      <td>Together</td>\n",
       "      <td>71613.0</td>\n",
       "      <td>0</td>\n",
       "      <td>0</td>\n",
       "      <td>26</td>\n",
       "      <td>426</td>\n",
       "      <td>49</td>\n",
       "      <td>127</td>\n",
       "      <td>111</td>\n",
       "      <td>21</td>\n",
       "      <td>42</td>\n",
       "      <td>1</td>\n",
       "      <td>8</td>\n",
       "      <td>2</td>\n",
       "      <td>10</td>\n",
       "      <td>4</td>\n",
       "      <td>3</td>\n",
       "      <td>11</td>\n",
       "    </tr>\n",
       "    <tr>\n",
       "      <th>3</th>\n",
       "      <td>1984</td>\n",
       "      <td>Together</td>\n",
       "      <td>26646.0</td>\n",
       "      <td>1</td>\n",
       "      <td>0</td>\n",
       "      <td>26</td>\n",
       "      <td>11</td>\n",
       "      <td>4</td>\n",
       "      <td>20</td>\n",
       "      <td>10</td>\n",
       "      <td>3</td>\n",
       "      <td>5</td>\n",
       "      <td>2</td>\n",
       "      <td>2</td>\n",
       "      <td>0</td>\n",
       "      <td>4</td>\n",
       "      <td>6</td>\n",
       "      <td>3</td>\n",
       "      <td>11</td>\n",
       "    </tr>\n",
       "    <tr>\n",
       "      <th>4</th>\n",
       "      <td>1981</td>\n",
       "      <td>Married</td>\n",
       "      <td>58293.0</td>\n",
       "      <td>1</td>\n",
       "      <td>0</td>\n",
       "      <td>94</td>\n",
       "      <td>173</td>\n",
       "      <td>43</td>\n",
       "      <td>118</td>\n",
       "      <td>46</td>\n",
       "      <td>27</td>\n",
       "      <td>15</td>\n",
       "      <td>5</td>\n",
       "      <td>5</td>\n",
       "      <td>3</td>\n",
       "      <td>6</td>\n",
       "      <td>5</td>\n",
       "      <td>3</td>\n",
       "      <td>11</td>\n",
       "    </tr>\n",
       "    <tr>\n",
       "      <th>...</th>\n",
       "      <td>...</td>\n",
       "      <td>...</td>\n",
       "      <td>...</td>\n",
       "      <td>...</td>\n",
       "      <td>...</td>\n",
       "      <td>...</td>\n",
       "      <td>...</td>\n",
       "      <td>...</td>\n",
       "      <td>...</td>\n",
       "      <td>...</td>\n",
       "      <td>...</td>\n",
       "      <td>...</td>\n",
       "      <td>...</td>\n",
       "      <td>...</td>\n",
       "      <td>...</td>\n",
       "      <td>...</td>\n",
       "      <td>...</td>\n",
       "      <td>...</td>\n",
       "      <td>...</td>\n",
       "    </tr>\n",
       "    <tr>\n",
       "      <th>2235</th>\n",
       "      <td>1967</td>\n",
       "      <td>Married</td>\n",
       "      <td>61223.0</td>\n",
       "      <td>0</td>\n",
       "      <td>1</td>\n",
       "      <td>46</td>\n",
       "      <td>709</td>\n",
       "      <td>43</td>\n",
       "      <td>182</td>\n",
       "      <td>42</td>\n",
       "      <td>118</td>\n",
       "      <td>247</td>\n",
       "      <td>2</td>\n",
       "      <td>9</td>\n",
       "      <td>3</td>\n",
       "      <td>4</td>\n",
       "      <td>5</td>\n",
       "      <td>3</td>\n",
       "      <td>11</td>\n",
       "    </tr>\n",
       "    <tr>\n",
       "      <th>2236</th>\n",
       "      <td>1946</td>\n",
       "      <td>Together</td>\n",
       "      <td>64014.0</td>\n",
       "      <td>2</td>\n",
       "      <td>1</td>\n",
       "      <td>56</td>\n",
       "      <td>406</td>\n",
       "      <td>0</td>\n",
       "      <td>30</td>\n",
       "      <td>0</td>\n",
       "      <td>0</td>\n",
       "      <td>8</td>\n",
       "      <td>7</td>\n",
       "      <td>8</td>\n",
       "      <td>2</td>\n",
       "      <td>5</td>\n",
       "      <td>7</td>\n",
       "      <td>3</td>\n",
       "      <td>11</td>\n",
       "    </tr>\n",
       "    <tr>\n",
       "      <th>2237</th>\n",
       "      <td>1981</td>\n",
       "      <td>Divorced</td>\n",
       "      <td>56981.0</td>\n",
       "      <td>0</td>\n",
       "      <td>0</td>\n",
       "      <td>91</td>\n",
       "      <td>908</td>\n",
       "      <td>48</td>\n",
       "      <td>217</td>\n",
       "      <td>32</td>\n",
       "      <td>12</td>\n",
       "      <td>24</td>\n",
       "      <td>1</td>\n",
       "      <td>2</td>\n",
       "      <td>3</td>\n",
       "      <td>13</td>\n",
       "      <td>6</td>\n",
       "      <td>3</td>\n",
       "      <td>11</td>\n",
       "    </tr>\n",
       "    <tr>\n",
       "      <th>2238</th>\n",
       "      <td>1956</td>\n",
       "      <td>Together</td>\n",
       "      <td>69245.0</td>\n",
       "      <td>0</td>\n",
       "      <td>1</td>\n",
       "      <td>8</td>\n",
       "      <td>428</td>\n",
       "      <td>30</td>\n",
       "      <td>214</td>\n",
       "      <td>80</td>\n",
       "      <td>30</td>\n",
       "      <td>61</td>\n",
       "      <td>2</td>\n",
       "      <td>6</td>\n",
       "      <td>5</td>\n",
       "      <td>10</td>\n",
       "      <td>3</td>\n",
       "      <td>3</td>\n",
       "      <td>11</td>\n",
       "    </tr>\n",
       "    <tr>\n",
       "      <th>2239</th>\n",
       "      <td>1954</td>\n",
       "      <td>Married</td>\n",
       "      <td>52869.0</td>\n",
       "      <td>1</td>\n",
       "      <td>1</td>\n",
       "      <td>40</td>\n",
       "      <td>84</td>\n",
       "      <td>3</td>\n",
       "      <td>61</td>\n",
       "      <td>2</td>\n",
       "      <td>1</td>\n",
       "      <td>21</td>\n",
       "      <td>3</td>\n",
       "      <td>3</td>\n",
       "      <td>1</td>\n",
       "      <td>4</td>\n",
       "      <td>7</td>\n",
       "      <td>3</td>\n",
       "      <td>11</td>\n",
       "    </tr>\n",
       "  </tbody>\n",
       "</table>\n",
       "<p>2216 rows × 19 columns</p>\n",
       "</div>"
      ],
      "text/plain": [
       "      Year_Birth Marital_Status   Income  Kidhome  Teenhome  Recency  \\\n",
       "0           1957         Single  58138.0        0         0       58   \n",
       "1           1954         Single  46344.0        1         1       38   \n",
       "2           1965       Together  71613.0        0         0       26   \n",
       "3           1984       Together  26646.0        1         0       26   \n",
       "4           1981        Married  58293.0        1         0       94   \n",
       "...          ...            ...      ...      ...       ...      ...   \n",
       "2235        1967        Married  61223.0        0         1       46   \n",
       "2236        1946       Together  64014.0        2         1       56   \n",
       "2237        1981       Divorced  56981.0        0         0       91   \n",
       "2238        1956       Together  69245.0        0         1        8   \n",
       "2239        1954        Married  52869.0        1         1       40   \n",
       "\n",
       "      MntWines  MntFruits  MntMeatProducts  MntFishProducts  MntSweetProducts  \\\n",
       "0          635         88              546              172                88   \n",
       "1           11          1                6                2                 1   \n",
       "2          426         49              127              111                21   \n",
       "3           11          4               20               10                 3   \n",
       "4          173         43              118               46                27   \n",
       "...        ...        ...              ...              ...               ...   \n",
       "2235       709         43              182               42               118   \n",
       "2236       406          0               30                0                 0   \n",
       "2237       908         48              217               32                12   \n",
       "2238       428         30              214               80                30   \n",
       "2239        84          3               61                2                 1   \n",
       "\n",
       "      MntGoldProds  NumDealsPurchases  NumWebPurchases  NumCatalogPurchases  \\\n",
       "0               88                  3                8                   10   \n",
       "1                6                  2                1                    1   \n",
       "2               42                  1                8                    2   \n",
       "3                5                  2                2                    0   \n",
       "4               15                  5                5                    3   \n",
       "...            ...                ...              ...                  ...   \n",
       "2235           247                  2                9                    3   \n",
       "2236             8                  7                8                    2   \n",
       "2237            24                  1                2                    3   \n",
       "2238            61                  2                6                    5   \n",
       "2239            21                  3                3                    1   \n",
       "\n",
       "      NumStorePurchases  NumWebVisitsMonth  Z_CostContact  Z_Revenue  \n",
       "0                     4                  7              3         11  \n",
       "1                     2                  5              3         11  \n",
       "2                    10                  4              3         11  \n",
       "3                     4                  6              3         11  \n",
       "4                     6                  5              3         11  \n",
       "...                 ...                ...            ...        ...  \n",
       "2235                  4                  5              3         11  \n",
       "2236                  5                  7              3         11  \n",
       "2237                 13                  6              3         11  \n",
       "2238                 10                  3              3         11  \n",
       "2239                  4                  7              3         11  \n",
       "\n",
       "[2216 rows x 19 columns]"
      ]
     },
     "execution_count": 3,
     "metadata": {},
     "output_type": "execute_result"
    }
   ],
   "source": [
    "df#ID\tYear_Birth\tEducation\tMarital_Status\tIncome\tKidhome\tTeenhome\tDt_Customer\tRecency\tMntWines\tMntFruits\tMntMeatProducts\tMntFishProducts\tMntSweetProducts\tMntGoldProds\tNumDealsPurchases\tNumWebPurchases\tNumCatalogPurchases\tNumStorePurchases\tNumWebVisitsMonth\tAcceptedCmp3\tAcceptedCmp4\tAcceptedCmp5\tAcceptedCmp1\tAcceptedCmp2\tComplain\tZ_CostContact\tZ_Revenue\tResponse"
   ]
  },
  {
   "cell_type": "code",
   "execution_count": 4,
   "metadata": {},
   "outputs": [
    {
     "data": {
      "image/png": "[encoded data removed]",
      "text/plain": [
       "<Figure size 432x288 with 2 Axes>"
      ]
     },
     "metadata": {
      "needs_background": "light"
     },
     "output_type": "display_data"
    }
   ],
   "source": [
    "n = 20\n",
    "x1 = np.array(df['Kidhome'][0:n])\n",
    "x1 = x1.reshape(len(x1), 1)\n",
    "x2 = np.array(df['Marital_Status'][0:n])\n",
    "x2 = x2.reshape(len(x2), 1)\n",
    "k=0\n",
    "for i in x2:\n",
    "    S = ['Single','Married','Divorced','Together','Widow']\n",
    "    for j in range(len(S)):\n",
    "        if S[j]==i[0]:x2[k]=j\n",
    "    k+=1\n",
    "x3 = np.array(df['Year_Birth'][0:n])\n",
    "x3 = x3.reshape(len(x3), 1)\n",
    "x4 = np.array(df['Income'][0:n])\n",
    "x4 = x4.reshape(len(x4), 1)\n",
    "#x5 = np.array(df['Kidhome'][0:n])\n",
    "#x5 = x5.reshape(len(x5), 1)\n",
    "x = np.concatenate((x1,x2,x3,x4),1)\n",
    "y = np.array(df['NumStorePurchases'][0:n])\n",
    "y = y.reshape(len(y), 1)\n",
    "# ax = sns.heatmap(x1, linewidth=0.5)\n",
    "# plt.show()\n",
    "# ax = sns.heatmap(x3, linewidth=0.5)\n",
    "# plt.show()\n",
    "# ax = sns.heatmap(x4, linewidth=0.5)\n",
    "# plt.show()\n",
    "# ax = sns.heatmap(x5, linewidth=0.5)\n",
    "# plt.show()\n",
    "y1 = np.array(df['MntMeatProducts'][0:n])\n",
    "y1 = y1.reshape(len(y1), 1)\n",
    "y2 = np.array(df['MntFishProducts'][0:n])\n",
    "y2 = y2.reshape(len(y2), 1)\n",
    "y3 = np.array(df['MntSweetProducts'][0:n])\n",
    "y3 = y3.reshape(len(y3), 1)\n",
    "y4 = np.array(df['MntGoldProds'][0:n])\n",
    "y4 = y4.reshape(len(y4), 1)\n",
    "y_n = np.concatenate((y1,y2,y3,y4),1)\n",
    "#print(x)\n",
    "ax = sns.heatmap(y_n, linewidth=0.5)\n",
    "plt.show()"
   ]
  },
  {
   "cell_type": "code",
   "execution_count": 5,
   "metadata": {},
   "outputs": [
    {
     "data": {
      "text/plain": [
       "<AxesSubplot:>"
      ]
     },
     "execution_count": 5,
     "metadata": {},
     "output_type": "execute_result"
    },
    {
     "data": {
      "image/png": "[encoded data removed]",
      "text/plain": [
       "<Figure size 432x288 with 2 Axes>"
      ]
     },
     "metadata": {
      "needs_background": "light"
     },
     "output_type": "display_data"
    }
   ],
   "source": [
    "df_new = df[['MntMeatProducts','MntFishProducts','MntSweetProducts','MntGoldProds']]\n",
    "sns.heatmap(df_new.corr(), annot = True)"
   ]
  },
  {
   "cell_type": "code",
   "execution_count": 6,
   "metadata": {
    "scrolled": true
   },
   "outputs": [
    {
     "data": {
      "text/plain": [
       "<AxesSubplot:>"
      ]
     },
     "execution_count": 6,
     "metadata": {},
     "output_type": "execute_result"
    },
    {
     "data": {
      "image/png": "[encoded data removed]",
      "text/plain": [
       "<Figure size 432x288 with 2 Axes>"
      ]
     },
     "metadata": {
      "needs_background": "light"
     },
     "output_type": "display_data"
    }
   ],
   "source": [
    "df_new_1 = df[['Year_Birth','Income','Kidhome','MntGoldProds']]\n",
    "sns.heatmap(df_new_1.corr(), annot = True)"
   ]
  },
  {
   "cell_type": "code",
   "execution_count": 7,
   "metadata": {
    "scrolled": true
   },
   "outputs": [
    {
     "data": {
      "text/plain": [
       "{'whiskers': [<matplotlib.lines.Line2D at 0x25203109280>,\n",
       "  <matplotlib.lines.Line2D at 0x252031095e0>,\n",
       "  <matplotlib.lines.Line2D at 0x25203116a90>,\n",
       "  <matplotlib.lines.Line2D at 0x25203116df0>,\n",
       "  <matplotlib.lines.Line2D at 0x2520312e2b0>,\n",
       "  <matplotlib.lines.Line2D at 0x2520312e610>],\n",
       " 'caps': [<matplotlib.lines.Line2D at 0x25203109940>,\n",
       "  <matplotlib.lines.Line2D at 0x25203109ca0>,\n",
       "  <matplotlib.lines.Line2D at 0x25203123190>,\n",
       "  <matplotlib.lines.Line2D at 0x252031234f0>,\n",
       "  <matplotlib.lines.Line2D at 0x2520312e970>,\n",
       "  <matplotlib.lines.Line2D at 0x2520312ecd0>],\n",
       " 'boxes': [<matplotlib.lines.Line2D at 0x252030f5ee0>,\n",
       "  <matplotlib.lines.Line2D at 0x25203116730>,\n",
       "  <matplotlib.lines.Line2D at 0x25203123f10>],\n",
       " 'medians': [<matplotlib.lines.Line2D at 0x25203116040>,\n",
       "  <matplotlib.lines.Line2D at 0x25203123850>,\n",
       "  <matplotlib.lines.Line2D at 0x25203139070>],\n",
       " 'fliers': [<matplotlib.lines.Line2D at 0x252031163a0>,\n",
       "  <matplotlib.lines.Line2D at 0x25203123bb0>,\n",
       "  <matplotlib.lines.Line2D at 0x252031393d0>],\n",
       " 'means': []}"
      ]
     },
     "execution_count": 7,
     "metadata": {},
     "output_type": "execute_result"
    },
    {
     "data": {
      "image/png": "[encoded data removed]",
      "text/plain": [
       "<Figure size 432x288 with 1 Axes>"
      ]
     },
     "metadata": {
      "needs_background": "light"
     },
     "output_type": "display_data"
    }
   ],
   "source": [
    "plt.boxplot(df[['MntFishProducts','MntSweetProducts','MntGoldProds']].head(5))"
   ]
  },
  {
   "cell_type": "code",
   "execution_count": 8,
   "metadata": {},
   "outputs": [
    {
     "data": {
      "text/html": [
       "<div>\n",
       "<style scoped>\n",
       "    .dataframe tbody tr th:only-of-type {\n",
       "        vertical-align: middle;\n",
       "    }\n",
       "\n",
       "    .dataframe tbody tr th {\n",
       "        vertical-align: top;\n",
       "    }\n",
       "\n",
       "    .dataframe thead th {\n",
       "        text-align: right;\n",
       "    }\n",
       "</style>\n",
       "<table border=\"1\" class=\"dataframe\">\n",
       "  <thead>\n",
       "    <tr style=\"text-align: right;\">\n",
       "      <th></th>\n",
       "      <th>MntFishProducts</th>\n",
       "      <th>MntSweetProducts</th>\n",
       "      <th>MntGoldProds</th>\n",
       "    </tr>\n",
       "  </thead>\n",
       "  <tbody>\n",
       "    <tr>\n",
       "      <th>0</th>\n",
       "      <td>0.757709</td>\n",
       "      <td>0.494382</td>\n",
       "      <td>0.365145</td>\n",
       "    </tr>\n",
       "    <tr>\n",
       "      <th>1</th>\n",
       "      <td>0.008811</td>\n",
       "      <td>0.005618</td>\n",
       "      <td>0.024896</td>\n",
       "    </tr>\n",
       "    <tr>\n",
       "      <th>2</th>\n",
       "      <td>0.488987</td>\n",
       "      <td>0.117978</td>\n",
       "      <td>0.174274</td>\n",
       "    </tr>\n",
       "    <tr>\n",
       "      <th>3</th>\n",
       "      <td>0.044053</td>\n",
       "      <td>0.016854</td>\n",
       "      <td>0.020747</td>\n",
       "    </tr>\n",
       "    <tr>\n",
       "      <th>4</th>\n",
       "      <td>0.202643</td>\n",
       "      <td>0.151685</td>\n",
       "      <td>0.062241</td>\n",
       "    </tr>\n",
       "    <tr>\n",
       "      <th>...</th>\n",
       "      <td>...</td>\n",
       "      <td>...</td>\n",
       "      <td>...</td>\n",
       "    </tr>\n",
       "    <tr>\n",
       "      <th>95</th>\n",
       "      <td>0.220264</td>\n",
       "      <td>0.146067</td>\n",
       "      <td>0.157676</td>\n",
       "    </tr>\n",
       "    <tr>\n",
       "      <th>96</th>\n",
       "      <td>0.044053</td>\n",
       "      <td>0.000000</td>\n",
       "      <td>0.037344</td>\n",
       "    </tr>\n",
       "    <tr>\n",
       "      <th>97</th>\n",
       "      <td>0.008811</td>\n",
       "      <td>0.005618</td>\n",
       "      <td>0.029046</td>\n",
       "    </tr>\n",
       "    <tr>\n",
       "      <th>98</th>\n",
       "      <td>0.330396</td>\n",
       "      <td>0.550562</td>\n",
       "      <td>0.269710</td>\n",
       "    </tr>\n",
       "    <tr>\n",
       "      <th>99</th>\n",
       "      <td>0.017621</td>\n",
       "      <td>0.022472</td>\n",
       "      <td>0.112033</td>\n",
       "    </tr>\n",
       "  </tbody>\n",
       "</table>\n",
       "<p>100 rows × 3 columns</p>\n",
       "</div>"
      ],
      "text/plain": [
       "    MntFishProducts  MntSweetProducts  MntGoldProds\n",
       "0          0.757709          0.494382      0.365145\n",
       "1          0.008811          0.005618      0.024896\n",
       "2          0.488987          0.117978      0.174274\n",
       "3          0.044053          0.016854      0.020747\n",
       "4          0.202643          0.151685      0.062241\n",
       "..              ...               ...           ...\n",
       "95         0.220264          0.146067      0.157676\n",
       "96         0.044053          0.000000      0.037344\n",
       "97         0.008811          0.005618      0.029046\n",
       "98         0.330396          0.550562      0.269710\n",
       "99         0.017621          0.022472      0.112033\n",
       "\n",
       "[100 rows x 3 columns]"
      ]
     },
     "execution_count": 8,
     "metadata": {},
     "output_type": "execute_result"
    }
   ],
   "source": [
    "my_df = df[['MntFishProducts','MntSweetProducts','MntGoldProds']].head(100)\n",
    "min_max_scaler = preprocessing.MinMaxScaler()\n",
    "cols = my_df.columns\n",
    "np_scaled = min_max_scaler.fit_transform(my_df)\n",
    "df_normalized = pd.DataFrame(np_scaled, columns = cols)\n",
    "df_normalized"
   ]
  },
  {
   "cell_type": "code",
   "execution_count": 9,
   "metadata": {},
   "outputs": [],
   "source": [
    "from sklearn.model_selection import train_test_split\n",
    "n = 20\n",
    "x1 = np.array(df['Kidhome'][0:n])\n",
    "x1 = x1.reshape(len(x1), 1)\n",
    "x2 = np.array(df['Marital_Status'][0:n])\n",
    "x2 = x2.reshape(len(x2), 1)\n",
    "k=0\n",
    "for i in x2:\n",
    "    S = ['Single','Married','Divorced','Together','Widow']\n",
    "    for j in range(len(S)):\n",
    "        if S[j]==i[0]:x2[k]=j\n",
    "    k+=1\n",
    "x3 = np.array(df['Year_Birth'][0:n])\n",
    "x3 = x3.reshape(len(x3), 1)\n",
    "x4 = np.array(df['Income'][0:n])\n",
    "x4 = x4.reshape(len(x4), 1)\n",
    "#x5 = np.array(df['Kidhome'][0:n])\n",
    "#x5 = x5.reshape(len(x5), 1)\n",
    "x = np.concatenate((x1,x2,x3,x4),1)\n",
    "# y = np.array(df['NumStorePurchases'][0:n])\n",
    "# y = y.reshape(len(y), 1)\n",
    "\n",
    "y1 = np.array(df['MntMeatProducts'][0:n])\n",
    "y1 = y1.reshape(len(y1), 1)\n",
    "y2 = np.array(df['MntFishProducts'][0:n])\n",
    "y2 = y2.reshape(len(y2), 1)\n",
    "y3 = np.array(df['MntSweetProducts'][0:n])\n",
    "y3 = y3.reshape(len(y3), 1)\n",
    "y4 = np.array(df['MntGoldProds'][0:n])\n",
    "y4 = y4.reshape(len(y4), 1)\n",
    "y_n = np.concatenate((y1,y2,y3,y4),1)\n",
    "\n",
    "X_train, X_test, y_train, y_test = train_test_split(x, y_n, test_size=0.2, random_state=12345)"
   ]
  },
  {
   "cell_type": "code",
   "execution_count": 10,
   "metadata": {},
   "outputs": [
    {
     "data": {
      "text/plain": [
       "KNeighborsRegressor(n_neighbors=4)"
      ]
     },
     "execution_count": 10,
     "metadata": {},
     "output_type": "execute_result"
    }
   ],
   "source": [
    "from sklearn.neighbors import KNeighborsRegressor\n",
    "knn_model = KNeighborsRegressor(n_neighbors=4)\n",
    "from sklearn.metrics import mean_squared_error\n",
    "knn_model.fit(X_train, y_train)"
   ]
  },
  {
   "cell_type": "code",
   "execution_count": 17,
   "metadata": {},
   "outputs": [
    {
     "data": {
      "text/plain": [
       "82.31190086152488"
      ]
     },
     "execution_count": 17,
     "metadata": {},
     "output_type": "execute_result"
    }
   ],
   "source": [
    "from math import sqrt\n",
    "train_preds = knn_model.predict(X_train)\n",
    "test_preds = knn_model.predict(X_test)\n",
    "mse = mean_squared_error(y_train, train_preds)\n",
    "rmse = sqrt(mse)\n",
    "rmse"
   ]
  },
  {
   "cell_type": "code",
   "execution_count": 19,
   "metadata": {},
   "outputs": [],
   "source": [
    "# cmap = sns.cubehelix_palette(as_cmap=True)\n",
    "# f, ax = plt.subplots()\n",
    "# points = ax.scatter(X_test[:, 0], X_test[:, 1], s=50, cmap=cmap)\n",
    "# f.colorbar(points)\n",
    "# plt.show()"
   ]
  },
  {
   "cell_type": "code",
   "execution_count": 37,
   "metadata": {},
   "outputs": [
    {
     "name": "stdout",
     "output_type": "stream",
     "text": [
      "[[0 0 0 0 0 0]\n",
      " [0 0 0 0 0 0]\n",
      " [1 0 0 0 0 0]\n",
      " [1 0 0 0 0 0]\n",
      " [1 0 0 0 0 0]\n",
      " [0 1 0 0 0 0]]\n",
      "              precision    recall  f1-score   support\n",
      "\n",
      "           6       0.00      0.00      0.00       0.0\n",
      "          11       0.00      0.00      0.00       0.0\n",
      "          19       0.00      0.00      0.00       1.0\n",
      "          24       0.00      0.00      0.00       1.0\n",
      "         118       0.00      0.00      0.00       1.0\n",
      "         127       0.00      0.00      0.00       1.0\n",
      "\n",
      "    accuracy                           0.00       4.0\n",
      "   macro avg       0.00      0.00      0.00       4.0\n",
      "weighted avg       0.00      0.00      0.00       4.0\n",
      "\n"
     ]
    },
    {
     "name": "stderr",
     "output_type": "stream",
     "text": [
      "c:\\users\\alex\\appdata\\local\\programs\\python\\python39\\lib\\site-packages\\sklearn\\metrics\\_classification.py:1221: UndefinedMetricWarning: Precision and F-score are ill-defined and being set to 0.0 in labels with no predicted samples. Use `zero_division` parameter to control this behavior.\n",
      "  _warn_prf(average, modifier, msg_start, len(result))\n",
      "c:\\users\\alex\\appdata\\local\\programs\\python\\python39\\lib\\site-packages\\sklearn\\metrics\\_classification.py:1221: UndefinedMetricWarning: Recall and F-score are ill-defined and being set to 0.0 in labels with no true samples. Use `zero_division` parameter to control this behavior.\n",
      "  _warn_prf(average, modifier, msg_start, len(result))\n"
     ]
    }
   ],
   "source": [
    "from sklearn.model_selection import train_test_split\n",
    "X_train, X_test, y_train, y_test = train_test_split(x1, y1, test_size=0.20)\n",
    "from sklearn.tree import DecisionTreeClassifier\n",
    "from sklearn import tree\n",
    "classifier = tree.DecisionTreeClassifier()\n",
    "classifier.fit(X_train, y_train)\n",
    "y_pred = classifier.predict(X_test)\n",
    "from sklearn.metrics import classification_report, confusion_matrix\n",
    "print(confusion_matrix(y_test, y_pred))\n",
    "print(classification_report(y_test, y_pred))\n"
   ]
  },
  {
   "cell_type": "code",
   "execution_count": 38,
   "metadata": {},
   "outputs": [
    {
     "name": "stdout",
     "output_type": "stream",
     "text": [
      "Mean Absolute Error: 44.666666666666664\n",
      "Mean Squared Error: 3584.1666666666665\n",
      "Root Mean Squared Error: 59.86791015783553\n"
     ]
    }
   ],
   "source": [
    "from sklearn.tree import DecisionTreeRegressor\n",
    "regressor = DecisionTreeRegressor()\n",
    "regressor.fit(X_train, y_train)\n",
    "y_pred = regressor.predict(X_test)\n",
    "from sklearn import metrics\n",
    "print('Mean Absolute Error:', metrics.mean_absolute_error(y_test, y_pred))\n",
    "print('Mean Squared Error:', metrics.mean_squared_error(y_test, y_pred))\n",
    "print('Root Mean Squared Error:', np.sqrt(metrics.mean_squared_error(y_test, y_pred)))\n"
   ]
  },
  {
   "cell_type": "code",
   "execution_count": 41,
   "metadata": {},
   "outputs": [
    {
     "data": {
      "text/plain": [
       "[Text(167.4, 163.07999999999998, 'X[0] <= 0.5\\ngini = 0.93\\nsamples = 16\\nvalue = [2, 1, 1, 1, 1, 1, 1, 1, 1, 1, 1, 1, 1, 1\\n1]'),\n",
       " Text(83.7, 54.360000000000014, 'gini = 0.9\\nsamples = 10\\nvalue = [0, 1, 1, 0, 0, 1, 0, 0, 1, 1, 1, 1, 1, 1\\n1]'),\n",
       " Text(251.10000000000002, 54.360000000000014, 'gini = 0.778\\nsamples = 6\\nvalue = [2, 0, 0, 1, 1, 0, 1, 1, 0, 0, 0, 0, 0, 0\\n0]')]"
      ]
     },
     "execution_count": 41,
     "metadata": {},
     "output_type": "execute_result"
    },
    {
     "data": {
      "image/png": "[encoded data removed]",
      "text/plain": [
       "<Figure size 432x288 with 1 Axes>"
      ]
     },
     "metadata": {
      "needs_background": "light"
     },
     "output_type": "display_data"
    }
   ],
   "source": [
    "tree.plot_tree(classifier)"
   ]
  },
  {
   "cell_type": "code",
   "execution_count": 47,
   "metadata": {},
   "outputs": [
    {
     "name": "stderr",
     "output_type": "stream",
     "text": [
      "c:\\users\\alex\\appdata\\local\\programs\\python\\python39\\lib\\site-packages\\sklearn\\utils\\validation.py:72: DataConversionWarning: A column-vector y was passed when a 1d array was expected. Please change the shape of y to (n_samples, ), for example using ravel().\n",
      "  return f(**kwargs)\n"
     ]
    },
    {
     "data": {
      "text/plain": [
       "SVC()"
      ]
     },
     "execution_count": 47,
     "metadata": {},
     "output_type": "execute_result"
    }
   ],
   "source": [
    "from sklearn import svm\n",
    "clf = svm.SVC()\n",
    "clf.fit(x, y1)\n",
    "# clf.support_vectors_\n",
    "# clf.n_support_\n"
   ]
  },
  {
   "cell_type": "code",
   "execution_count": 51,
   "metadata": {},
   "outputs": [
    {
     "name": "stdout",
     "output_type": "stream",
     "text": [
      "153\n",
      "18\n"
     ]
    },
    {
     "name": "stderr",
     "output_type": "stream",
     "text": [
      "c:\\users\\alex\\appdata\\local\\programs\\python\\python39\\lib\\site-packages\\sklearn\\utils\\validation.py:72: DataConversionWarning: A column-vector y was passed when a 1d array was expected. Please change the shape of y to (n_samples, ), for example using ravel().\n",
      "  return f(**kwargs)\n"
     ]
    }
   ],
   "source": [
    "clf = svm.SVC(decision_function_shape='ovo')\n",
    "clf.fit(x1, y1)\n",
    "dec = clf.decision_function([[1]])\n",
    "print(dec.shape[1])\n",
    "clf.decision_function_shape = \"ovr\"\n",
    "dec = clf.decision_function([[1]])\n",
    "print(dec.shape[1])"
   ]
  },
  {
   "cell_type": "code",
   "execution_count": 52,
   "metadata": {},
   "outputs": [
    {
     "data": {
      "text/plain": [
       "array([546, 546,  19,  19,  19,  19,  19,  19,  19,  19,  19,  19,  19,\n",
       "        19, 546,  19,  19,  19, 546,  19], dtype=int64)"
      ]
     },
     "execution_count": 52,
     "metadata": {},
     "output_type": "execute_result"
    }
   ],
   "source": [
    "clf.predict(x2)"
   ]
  },
  {
   "cell_type": "code",
   "execution_count": 72,
   "metadata": {},
   "outputs": [
    {
     "data": {
      "text/plain": [
       "(<20x2018 sparse matrix of type '<class 'numpy.int64'>'\n",
       " \twith 9992 stored elements in Compressed Sparse Row format>,\n",
       " array([   0,   21,   40,   57,   78,   95,  108,  125,  144,  167,  190,\n",
       "         207,  230,  247,  270,  293,  316,  327,  350,  369,  392,  407,\n",
       "         428,  449,  472,  491,  510,  529,  552,  577,  600,  619,  638,\n",
       "         659,  680,  699,  718,  735,  758,  775,  798,  815,  834,  851,\n",
       "         876,  897,  914,  933,  948,  965,  988, 1007, 1026, 1041, 1060,\n",
       "        1077, 1096, 1117, 1140, 1165, 1186, 1205, 1216, 1239, 1262, 1281,\n",
       "        1304, 1323, 1344, 1367, 1392, 1411, 1426, 1449, 1466, 1485, 1512,\n",
       "        1535, 1558, 1585, 1608, 1629, 1650, 1669, 1690, 1713, 1730, 1749,\n",
       "        1768, 1791, 1812, 1827, 1854, 1873, 1894, 1907, 1930, 1949, 1972,\n",
       "        1995, 2018], dtype=int32))"
      ]
     },
     "execution_count": 72,
     "metadata": {},
     "output_type": "execute_result"
    }
   ],
   "source": [
    "from sklearn.ensemble import RandomForestClassifier\n",
    "from sklearn.datasets import make_classification\n",
    "clf = RandomForestClassifier(max_depth=5, random_state=0)\n",
    "clf.fit(x, y_n)\n",
    "clf.apply(x)\n",
    "clf.decision_path(x)\n",
    "\n",
    "# from sklearn.tree import export_graphviz\n",
    "# import pydotplus\n",
    "# import six\n",
    "# from sklearn import tree \n",
    "\n",
    "# from sklearn import datasets\n",
    "# from IPython.display import Image  \n",
    "# import pydotplus\n",
    "\n",
    "# dotfile = six.StringIO()\n",
    "# i_tree = 0\n",
    "# for tree_in_forest in clf.estimators_:\n",
    "#     if (i_tree ==3):        \n",
    "#         tree.export_graphviz(tree_in_forest, out_file=dotfile)\n",
    "#         graph = pydotplus.graph_from_dot_data(dotfile.getvalue())        \n",
    "#     i_tree = i_tree + 1\n",
    "# Image(graph.create_png())\n",
    "\n",
    "# # Create DOT data\n",
    "# dot_data = tree.export_graphviz(clf, out_file=None)\n",
    "\n",
    "# # Draw graph\n",
    "# graph = pydotplus.graph_from_dot_data(dot_data)  \n",
    "\n",
    "# # Show graph\n",
    "# Image(graph.create_png())"
   ]
  },
  {
   "cell_type": "code",
   "execution_count": 77,
   "metadata": {},
   "outputs": [
    {
     "name": "stderr",
     "output_type": "stream",
     "text": [
      "c:\\users\\alex\\appdata\\local\\programs\\python\\python39\\lib\\site-packages\\sklearn\\utils\\validation.py:72: DataConversionWarning: A column-vector y was passed when a 1d array was expected. Please change the shape of y to (n_samples, ), for example using ravel().\n",
      "  return f(**kwargs)\n"
     ]
    },
    {
     "name": "stdout",
     "output_type": "stream",
     "text": [
      "[11 11  6  6  6  6  6  6  6  6  6  6  6  6 11  6  6  6 11  6] 0.15\n"
     ]
    }
   ],
   "source": [
    "from sklearn.ensemble import AdaBoostClassifier\n",
    "from sklearn.datasets import make_classification\n",
    "clf = AdaBoostClassifier(n_estimators=100, random_state=0)\n",
    "clf.fit(x1, y1)\n",
    "AdaBoostClassifier(n_estimators=100, random_state=0)\n",
    "print(clf.predict(x2),\n",
    "clf.score(x1, y1))"
   ]
  }
 ],
 "metadata": {
  "kernelspec": {
   "display_name": "Python 3 (ipykernel)",
   "language": "python",
   "name": "python3"
  },
  "language_info": {
   "codemirror_mode": {
    "name": "ipython",
    "version": 3
   },
   "file_extension": ".py",
   "mimetype": "text/x-python",
   "name": "python",
   "nbconvert_exporter": "python",
   "pygments_lexer": "ipython3",
   "version": "3.9.6"
  }
 },
 "nbformat": 4,
 "nbformat_minor": 4
}
