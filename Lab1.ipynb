{
 "cells": [
  {
   "cell_type": "code",
   "execution_count": 1,
   "metadata": {},
   "outputs": [],
   "source": [
    "import numpy as np\n",
    "from sklearn.linear_model import LinearRegression\n",
    "from sklearn.metrics import accuracy_score\n",
    "import random\n",
    "import matplotlib.pyplot as plt\n",
    "x = np.array([random.random() for i in range(10)]).reshape((-1, 1))\n",
    "a=10.5;b=13.7;\n",
    "noise = np.random.normal(0, 1, 1)\n",
    "#y=a*x+b+noise\n",
    "def Y(X,a,b,noise):\n",
    "    \n",
    "    return np.array([a*x+b+noise for x in X])\n",
    "y = Y(x,a,b,noise)\n",
    "#x = np.array([5, 15, 25, 35, 45, 55]).reshape((-1, 1))\n",
    "#y = np.array([5, 20, 14, 32, 22, 38])"
   ]
  },
  {
   "cell_type": "code",
   "execution_count": 2,
   "metadata": {},
   "outputs": [
    {
     "data": {
      "text/plain": [
       "[<matplotlib.lines.Line2D at 0x1e5b163e4c0>]"
      ]
     },
     "execution_count": 2,
     "metadata": {},
     "output_type": "execute_result"
    },
    {
     "data": {
      "image/png": "[encoded data removed]",
      "text/plain": [
       "<Figure size 432x288 with 1 Axes>"
      ]
     },
     "metadata": {
      "needs_background": "light"
     },
     "output_type": "display_data"
    }
   ],
   "source": [
    "plt.plot(x,y)"
   ]
  },
  {
   "cell_type": "code",
   "execution_count": 3,
   "metadata": {},
   "outputs": [
    {
     "name": "stdout",
     "output_type": "stream",
     "text": [
      "[[0.7112472 ]\n",
      " [0.53204528]\n",
      " [0.68934285]\n",
      " [0.20865287]\n",
      " [0.57908159]\n",
      " [0.57591782]\n",
      " [0.13952486]\n",
      " [0.78556212]\n",
      " [0.17878989]\n",
      " [0.38183153]] \n",
      "\n",
      " [[21.8383452 ]\n",
      " [19.95672501]\n",
      " [21.6083495 ]\n",
      " [16.56110473]\n",
      " [20.45060628]\n",
      " [20.41738666]\n",
      " [15.83526061]\n",
      " [22.61865185]\n",
      " [16.24754342]\n",
      " [18.37948064]]\n"
     ]
    }
   ],
   "source": [
    "print(x,'\\n\\n',y)"
   ]
  },
  {
   "cell_type": "code",
   "execution_count": 4,
   "metadata": {},
   "outputs": [],
   "source": [
    "model = LinearRegression()#создане модели"
   ]
  },
  {
   "cell_type": "code",
   "execution_count": 5,
   "metadata": {},
   "outputs": [
    {
     "data": {
      "text/plain": [
       "LinearRegression()"
      ]
     },
     "execution_count": 5,
     "metadata": {},
     "output_type": "execute_result"
    }
   ],
   "source": [
    "model.fit(x, y)#вычисляются оптимальные значение весов b₀ и b₁, используя существующие вход и выход (x и y) в качестве аргументов. Другими словами, .fit() совмещает модель"
   ]
  },
  {
   "cell_type": "code",
   "execution_count": 6,
   "metadata": {},
   "outputs": [
    {
     "name": "stdout",
     "output_type": "stream",
     "text": [
      "coefficient of determination: 1.0\n",
      "intercept: [14.37024959] b =  13.7\n",
      "slope: [[10.5]] a =  10.5\n"
     ]
    }
   ],
   "source": [
    "r_sq = model.score(x, y)\n",
    "print('coefficient of determination:', r_sq)\n",
    "#определения (R²) \n",
    "print('intercept:', model.intercept_,'b = ',b)\n",
    "intercept: 5.633333333333329\n",
    "print('slope:', model.coef_,'a = ',a)\n"
   ]
  },
  {
   "cell_type": "code",
   "execution_count": 7,
   "metadata": {},
   "outputs": [
    {
     "name": "stdout",
     "output_type": "stream",
     "text": [
      "predicted response:\n",
      "[[21.8383452 ]\n",
      " [19.95672501]\n",
      " [21.6083495 ]\n",
      " [16.56110473]\n",
      " [20.45060628]\n",
      " [20.41738666]\n",
      " [15.83526061]\n",
      " [22.61865185]\n",
      " [16.24754342]\n",
      " [18.37948064]]\n"
     ]
    }
   ],
   "source": [
    "y_pred = model.predict(x)\n",
    "print('predicted response:', y_pred, sep='\\n')"
   ]
  },
  {
   "cell_type": "code",
   "execution_count": 8,
   "metadata": {},
   "outputs": [
    {
     "data": {
      "text/plain": [
       "Text(0.5, 1.0, 'x and y predicted')"
      ]
     },
     "execution_count": 8,
     "metadata": {},
     "output_type": "execute_result"
    },
    {
     "data": {
      "image/png": "[encoded data removed]",
      "text/plain": [
       "<Figure size 432x288 with 2 Axes>"
      ]
     },
     "metadata": {
      "needs_background": "light"
     },
     "output_type": "display_data"
    }
   ],
   "source": [
    "#,x,y_pred\n",
    "plt.subplot(1,2,1)\n",
    "plt.plot(x,y)\n",
    "plt.title('x and y')\n",
    "plt.subplot(1,2,2)\n",
    "plt.plot(x,y_pred)\n",
    "plt.title('x and y predicted')"
   ]
  },
  {
   "cell_type": "code",
   "execution_count": 9,
   "metadata": {},
   "outputs": [],
   "source": [
    "from sklearn.linear_model import LogisticRegression\n",
    "from sklearn.metrics import classification_report, confusion_matrix\n",
    "\n"
   ]
  },
  {
   "cell_type": "code",
   "execution_count": 10,
   "metadata": {},
   "outputs": [],
   "source": [
    "# fig, ax = plt.subplots()\n",
    "\n",
    "# x1 = np.linspace(0, 10, 30)\n",
    "# y1 = np.random.beta(0.1, 0.6, size = 30)\n",
    "# x2 = np.linspace(11, 20, 30)\n",
    "# y2 = np.random.gamma(shape = 0.3, scale = 1.1, size = 30)\n",
    "\n",
    "# x1 = 10*np.random.rand(100)    \n",
    "# y1 = 10*np.random.rand(100)  \n",
    "\n",
    "# x2 = 10*np.random.rand(100)    \n",
    "# y2 = 10*np.random.rand(100)\n",
    "\n",
    "# plt.plot(x1, y1, 'o', label=\"marker='{0}'\".format('o'))\n",
    "# plt.plot(x2, y2, '.', label=\"marker='{0}'\".format('.'))\n"
   ]
  },
  {
   "cell_type": "code",
   "execution_count": 11,
   "metadata": {},
   "outputs": [
    {
     "name": "stdout",
     "output_type": "stream",
     "text": [
      "[0 1] [-1.04608067] [[0.51491375]]\n"
     ]
    }
   ],
   "source": [
    "model = LogisticRegression(solver='liblinear', random_state=0)\n",
    "x = np.arange(10).reshape(-1, 1)\n",
    "y = np.array([0, 0, 0, 0, 1, 1, 1, 1, 1, 1])\n",
    "model.fit(x, y)\n",
    "c = model.classes_\n",
    "a = model.intercept_\n",
    "b = model.coef_\n",
    "print(c,a,b)"
   ]
  },
  {
   "cell_type": "code",
   "execution_count": 12,
   "metadata": {},
   "outputs": [
    {
     "data": {
      "text/plain": [
       "array([[0.74002157, 0.25997843],\n",
       "       [0.62975524, 0.37024476],\n",
       "       [0.5040632 , 0.4959368 ],\n",
       "       [0.37785549, 0.62214451],\n",
       "       [0.26628093, 0.73371907],\n",
       "       [0.17821501, 0.82178499],\n",
       "       [0.11472079, 0.88527921],\n",
       "       [0.07186982, 0.92813018],\n",
       "       [0.04422513, 0.95577487],\n",
       "       [0.02690569, 0.97309431]])"
      ]
     },
     "execution_count": 12,
     "metadata": {},
     "output_type": "execute_result"
    }
   ],
   "source": [
    "model.predict_proba(x)"
   ]
  },
  {
   "cell_type": "code",
   "execution_count": 13,
   "metadata": {},
   "outputs": [],
   "source": [
    "y_pred=model.predict(x)"
   ]
  },
  {
   "cell_type": "code",
   "execution_count": 14,
   "metadata": {},
   "outputs": [
    {
     "name": "stdout",
     "output_type": "stream",
     "text": [
      "[0 0 0 0 1 1 1 1 1 1] [0 0 0 1 1 1 1 1 1 1]\n"
     ]
    }
   ],
   "source": [
    "print(y,y_pred)"
   ]
  },
  {
   "cell_type": "code",
   "execution_count": 15,
   "metadata": {},
   "outputs": [
    {
     "data": {
      "text/plain": [
       "0.9"
      ]
     },
     "execution_count": 15,
     "metadata": {},
     "output_type": "execute_result"
    }
   ],
   "source": [
    "accuracy_score(y, y_pred)"
   ]
  },
  {
   "cell_type": "code",
   "execution_count": 16,
   "metadata": {},
   "outputs": [
    {
     "data": {
      "text/plain": [
       "[<matplotlib.lines.Line2D at 0x1e5b1810040>]"
      ]
     },
     "execution_count": 16,
     "metadata": {},
     "output_type": "execute_result"
    },
    {
     "data": {
      "image/png": "[encoded data removed]",
      "text/plain": [
       "<Figure size 432x288 with 1 Axes>"
      ]
     },
     "metadata": {
      "needs_background": "light"
     },
     "output_type": "display_data"
    }
   ],
   "source": [
    "\n",
    "x1=x[0:3];y1=y[0:3]\n",
    "#print(x,'\\n')\n",
    "#print(x1,'\\n',y1,'\\n')\n",
    "x2=x[4:10];y2=y[4:10]\n",
    "#print(x2,'\\n',y2,'\\n')\n",
    "fig, ax = plt.subplots()\n",
    "plt.plot(x1, y1, 'o', label=\"marker='{0}'\".format('o'))\n",
    "plt.plot(x2, y2, '.', label=\"marker='{0}'\".format('.'))\n",
    "plt.plot(x[3], y[3], 'x', label=\"marker='{0}'\".format('.'),color='red')\n",
    "a=a[0];b=b[0][0]\n",
    "y = Y(x,b,a,0)\n",
    "plt.plot(x, y,color='green')\n",
    "\n"
   ]
  },
  {
   "cell_type": "code",
   "execution_count": null,
   "metadata": {},
   "outputs": [],
   "source": []
  }
 ],
 "metadata": {
  "kernelspec": {
   "display_name": "Python 3 (ipykernel)",
   "language": "python",
   "name": "python3"
  },
  "language_info": {
   "codemirror_mode": {
    "name": "ipython",
    "version": 3
   },
   "file_extension": ".py",
   "mimetype": "text/x-python",
   "name": "python",
   "nbconvert_exporter": "python",
   "pygments_lexer": "ipython3",
   "version": "3.9.6"
  }
 },
 "nbformat": 4,
 "nbformat_minor": 4
}
